{
  "nbformat": 4,
  "nbformat_minor": 0,
  "metadata": {
    "colab": {
      "name": "Analise de dados Logshell.ipynb",
      "provenance": [],
      "collapsed_sections": [],
      "authorship_tag": "ABX9TyPPHyS73I8Z4ishD+uzXk+V",
      "include_colab_link": true
    },
    "kernelspec": {
      "name": "python3",
      "display_name": "Python 3"
    },
    "language_info": {
      "name": "python"
    }
  },
  "cells": [
    {
      "cell_type": "markdown",
      "metadata": {
        "id": "view-in-github",
        "colab_type": "text"
      },
      "source": [
        "<a href=\"https://colab.research.google.com/github/andersonvalentim/API-Algoritms-resolutions-/blob/master/Analise_de_dados_Logshell.ipynb\" target=\"_parent\"><img src=\"https://colab.research.google.com/assets/colab-badge.svg\" alt=\"Open In Colab\"/></a>"
      ]
    },
    {
      "cell_type": "markdown",
      "source": [
        "###**Análise de dados de endereços IP's utilizados no ataque Log4Shell**\n"
      ],
      "metadata": {
        "id": "pdgF9GacZ4WE"
      }
    },
    {
      "cell_type": "markdown",
      "source": [
        "Log4Shell é o nome atribuido a vulnerabilidade encontrada no componente  de software Java chamado Log4j. Esse componente está incorporado em diversos aplicativos, onde seu intuito principal é gerar insumo de logs. A vulnerabilidade  explorada na [CVE-2021-44228](https://cve.mitre.org/cgi-bin/cvename.cgi?name=cve-2021-44228), explora remotamente alvos vulneráveis e obtém  acesso não autorizado aos sistemas que fazem a utilização do componetne Log4j.\n",
        "\n",
        "Origem do DataSet analisado:\n",
        "[Kaggle](https://www.kaggle.com/datasets/brsdincer/log4shell-attack-ip-informations)\n"
      ],
      "metadata": {
        "id": "x2_nxMEZZRpZ"
      }
    },
    {
      "cell_type": "code",
      "source": [
        "import pandas as pd\n",
        "import matplotlib.pyplot as plt\n",
        "import seaborn as sns\n",
        "#import geopandas\n",
        "\n"
      ],
      "metadata": {
        "id": "3BqEr77tb_TS"
      },
      "execution_count": 1,
      "outputs": []
    },
    {
      "cell_type": "code",
      "source": [
        "df = pd.read_csv('/home/LOG4SHELL_IP_INFO - Sheet1.csv')\n",
        "\n",
        "df.head()"
      ],
      "metadata": {
        "colab": {
          "base_uri": "https://localhost:8080/",
          "height": 206
        },
        "id": "uhykUKhAcL1k",
        "outputId": "937c5492-16b2-40b6-aecb-15f8cf95671e"
      },
      "execution_count": 2,
      "outputs": [
        {
          "output_type": "execute_result",
          "data": {
            "text/plain": [
              "          IP_INFO STATUS_CONF COUNTRY                               PL_NAME\n",
              "0  195.54.160.149   validated      RU  OOO Network of data-centers Selectel\n",
              "1  45.155.205.233   validated      RU  OOO Network of data-centers Selectel\n",
              "2   167.71.13.196   validated      NL                      DIGITALOCEAN-ASN\n",
              "3  45.146.164.160   validated      RU  OOO Network of data-centers Selectel\n",
              "4   34.65.121.142   validated      CH                 GOOGLE-CLOUD-PLATFORM"
            ],
            "text/html": [
              "\n",
              "  <div id=\"df-779d2898-dfde-4063-87cc-ad3d067735c1\">\n",
              "    <div class=\"colab-df-container\">\n",
              "      <div>\n",
              "<style scoped>\n",
              "    .dataframe tbody tr th:only-of-type {\n",
              "        vertical-align: middle;\n",
              "    }\n",
              "\n",
              "    .dataframe tbody tr th {\n",
              "        vertical-align: top;\n",
              "    }\n",
              "\n",
              "    .dataframe thead th {\n",
              "        text-align: right;\n",
              "    }\n",
              "</style>\n",
              "<table border=\"1\" class=\"dataframe\">\n",
              "  <thead>\n",
              "    <tr style=\"text-align: right;\">\n",
              "      <th></th>\n",
              "      <th>IP_INFO</th>\n",
              "      <th>STATUS_CONF</th>\n",
              "      <th>COUNTRY</th>\n",
              "      <th>PL_NAME</th>\n",
              "    </tr>\n",
              "  </thead>\n",
              "  <tbody>\n",
              "    <tr>\n",
              "      <th>0</th>\n",
              "      <td>195.54.160.149</td>\n",
              "      <td>validated</td>\n",
              "      <td>RU</td>\n",
              "      <td>OOO Network of data-centers Selectel</td>\n",
              "    </tr>\n",
              "    <tr>\n",
              "      <th>1</th>\n",
              "      <td>45.155.205.233</td>\n",
              "      <td>validated</td>\n",
              "      <td>RU</td>\n",
              "      <td>OOO Network of data-centers Selectel</td>\n",
              "    </tr>\n",
              "    <tr>\n",
              "      <th>2</th>\n",
              "      <td>167.71.13.196</td>\n",
              "      <td>validated</td>\n",
              "      <td>NL</td>\n",
              "      <td>DIGITALOCEAN-ASN</td>\n",
              "    </tr>\n",
              "    <tr>\n",
              "      <th>3</th>\n",
              "      <td>45.146.164.160</td>\n",
              "      <td>validated</td>\n",
              "      <td>RU</td>\n",
              "      <td>OOO Network of data-centers Selectel</td>\n",
              "    </tr>\n",
              "    <tr>\n",
              "      <th>4</th>\n",
              "      <td>34.65.121.142</td>\n",
              "      <td>validated</td>\n",
              "      <td>CH</td>\n",
              "      <td>GOOGLE-CLOUD-PLATFORM</td>\n",
              "    </tr>\n",
              "  </tbody>\n",
              "</table>\n",
              "</div>\n",
              "      <button class=\"colab-df-convert\" onclick=\"convertToInteractive('df-779d2898-dfde-4063-87cc-ad3d067735c1')\"\n",
              "              title=\"Convert this dataframe to an interactive table.\"\n",
              "              style=\"display:none;\">\n",
              "        \n",
              "  <svg xmlns=\"http://www.w3.org/2000/svg\" height=\"24px\"viewBox=\"0 0 24 24\"\n",
              "       width=\"24px\">\n",
              "    <path d=\"M0 0h24v24H0V0z\" fill=\"none\"/>\n",
              "    <path d=\"M18.56 5.44l.94 2.06.94-2.06 2.06-.94-2.06-.94-.94-2.06-.94 2.06-2.06.94zm-11 1L8.5 8.5l.94-2.06 2.06-.94-2.06-.94L8.5 2.5l-.94 2.06-2.06.94zm10 10l.94 2.06.94-2.06 2.06-.94-2.06-.94-.94-2.06-.94 2.06-2.06.94z\"/><path d=\"M17.41 7.96l-1.37-1.37c-.4-.4-.92-.59-1.43-.59-.52 0-1.04.2-1.43.59L10.3 9.45l-7.72 7.72c-.78.78-.78 2.05 0 2.83L4 21.41c.39.39.9.59 1.41.59.51 0 1.02-.2 1.41-.59l7.78-7.78 2.81-2.81c.8-.78.8-2.07 0-2.86zM5.41 20L4 18.59l7.72-7.72 1.47 1.35L5.41 20z\"/>\n",
              "  </svg>\n",
              "      </button>\n",
              "      \n",
              "  <style>\n",
              "    .colab-df-container {\n",
              "      display:flex;\n",
              "      flex-wrap:wrap;\n",
              "      gap: 12px;\n",
              "    }\n",
              "\n",
              "    .colab-df-convert {\n",
              "      background-color: #E8F0FE;\n",
              "      border: none;\n",
              "      border-radius: 50%;\n",
              "      cursor: pointer;\n",
              "      display: none;\n",
              "      fill: #1967D2;\n",
              "      height: 32px;\n",
              "      padding: 0 0 0 0;\n",
              "      width: 32px;\n",
              "    }\n",
              "\n",
              "    .colab-df-convert:hover {\n",
              "      background-color: #E2EBFA;\n",
              "      box-shadow: 0px 1px 2px rgba(60, 64, 67, 0.3), 0px 1px 3px 1px rgba(60, 64, 67, 0.15);\n",
              "      fill: #174EA6;\n",
              "    }\n",
              "\n",
              "    [theme=dark] .colab-df-convert {\n",
              "      background-color: #3B4455;\n",
              "      fill: #D2E3FC;\n",
              "    }\n",
              "\n",
              "    [theme=dark] .colab-df-convert:hover {\n",
              "      background-color: #434B5C;\n",
              "      box-shadow: 0px 1px 3px 1px rgba(0, 0, 0, 0.15);\n",
              "      filter: drop-shadow(0px 1px 2px rgba(0, 0, 0, 0.3));\n",
              "      fill: #FFFFFF;\n",
              "    }\n",
              "  </style>\n",
              "\n",
              "      <script>\n",
              "        const buttonEl =\n",
              "          document.querySelector('#df-779d2898-dfde-4063-87cc-ad3d067735c1 button.colab-df-convert');\n",
              "        buttonEl.style.display =\n",
              "          google.colab.kernel.accessAllowed ? 'block' : 'none';\n",
              "\n",
              "        async function convertToInteractive(key) {\n",
              "          const element = document.querySelector('#df-779d2898-dfde-4063-87cc-ad3d067735c1');\n",
              "          const dataTable =\n",
              "            await google.colab.kernel.invokeFunction('convertToInteractive',\n",
              "                                                     [key], {});\n",
              "          if (!dataTable) return;\n",
              "\n",
              "          const docLinkHtml = 'Like what you see? Visit the ' +\n",
              "            '<a target=\"_blank\" href=https://colab.research.google.com/notebooks/data_table.ipynb>data table notebook</a>'\n",
              "            + ' to learn more about interactive tables.';\n",
              "          element.innerHTML = '';\n",
              "          dataTable['output_type'] = 'display_data';\n",
              "          await google.colab.output.renderOutput(dataTable, element);\n",
              "          const docLink = document.createElement('div');\n",
              "          docLink.innerHTML = docLinkHtml;\n",
              "          element.appendChild(docLink);\n",
              "        }\n",
              "      </script>\n",
              "    </div>\n",
              "  </div>\n",
              "  "
            ]
          },
          "metadata": {},
          "execution_count": 2
        }
      ]
    },
    {
      "cell_type": "markdown",
      "source": [
        "**Analisando o conjunto de dados**"
      ],
      "metadata": {
        "id": "VMFGss8XdXSW"
      }
    },
    {
      "cell_type": "code",
      "source": [
        "df.describe()"
      ],
      "metadata": {
        "colab": {
          "base_uri": "https://localhost:8080/",
          "height": 175
        },
        "id": "EH8cjtWwd8FY",
        "outputId": "35dd4c4f-c2ea-4adf-867b-b1a9e1e612bc"
      },
      "execution_count": 3,
      "outputs": [
        {
          "output_type": "execute_result",
          "data": {
            "text/plain": [
              "               IP_INFO STATUS_CONF COUNTRY                 PL_NAME\n",
              "count             2111        2111    2111                    2110\n",
              "unique            2111           4      60                     272\n",
              "top     195.54.160.149      benign      DE  Alpha Strike Labs GmbH\n",
              "freq                 1        1028    1239                    1022"
            ],
            "text/html": [
              "\n",
              "  <div id=\"df-c6055ded-3a9a-41c5-89cd-3323c0a8041a\">\n",
              "    <div class=\"colab-df-container\">\n",
              "      <div>\n",
              "<style scoped>\n",
              "    .dataframe tbody tr th:only-of-type {\n",
              "        vertical-align: middle;\n",
              "    }\n",
              "\n",
              "    .dataframe tbody tr th {\n",
              "        vertical-align: top;\n",
              "    }\n",
              "\n",
              "    .dataframe thead th {\n",
              "        text-align: right;\n",
              "    }\n",
              "</style>\n",
              "<table border=\"1\" class=\"dataframe\">\n",
              "  <thead>\n",
              "    <tr style=\"text-align: right;\">\n",
              "      <th></th>\n",
              "      <th>IP_INFO</th>\n",
              "      <th>STATUS_CONF</th>\n",
              "      <th>COUNTRY</th>\n",
              "      <th>PL_NAME</th>\n",
              "    </tr>\n",
              "  </thead>\n",
              "  <tbody>\n",
              "    <tr>\n",
              "      <th>count</th>\n",
              "      <td>2111</td>\n",
              "      <td>2111</td>\n",
              "      <td>2111</td>\n",
              "      <td>2110</td>\n",
              "    </tr>\n",
              "    <tr>\n",
              "      <th>unique</th>\n",
              "      <td>2111</td>\n",
              "      <td>4</td>\n",
              "      <td>60</td>\n",
              "      <td>272</td>\n",
              "    </tr>\n",
              "    <tr>\n",
              "      <th>top</th>\n",
              "      <td>195.54.160.149</td>\n",
              "      <td>benign</td>\n",
              "      <td>DE</td>\n",
              "      <td>Alpha Strike Labs GmbH</td>\n",
              "    </tr>\n",
              "    <tr>\n",
              "      <th>freq</th>\n",
              "      <td>1</td>\n",
              "      <td>1028</td>\n",
              "      <td>1239</td>\n",
              "      <td>1022</td>\n",
              "    </tr>\n",
              "  </tbody>\n",
              "</table>\n",
              "</div>\n",
              "      <button class=\"colab-df-convert\" onclick=\"convertToInteractive('df-c6055ded-3a9a-41c5-89cd-3323c0a8041a')\"\n",
              "              title=\"Convert this dataframe to an interactive table.\"\n",
              "              style=\"display:none;\">\n",
              "        \n",
              "  <svg xmlns=\"http://www.w3.org/2000/svg\" height=\"24px\"viewBox=\"0 0 24 24\"\n",
              "       width=\"24px\">\n",
              "    <path d=\"M0 0h24v24H0V0z\" fill=\"none\"/>\n",
              "    <path d=\"M18.56 5.44l.94 2.06.94-2.06 2.06-.94-2.06-.94-.94-2.06-.94 2.06-2.06.94zm-11 1L8.5 8.5l.94-2.06 2.06-.94-2.06-.94L8.5 2.5l-.94 2.06-2.06.94zm10 10l.94 2.06.94-2.06 2.06-.94-2.06-.94-.94-2.06-.94 2.06-2.06.94z\"/><path d=\"M17.41 7.96l-1.37-1.37c-.4-.4-.92-.59-1.43-.59-.52 0-1.04.2-1.43.59L10.3 9.45l-7.72 7.72c-.78.78-.78 2.05 0 2.83L4 21.41c.39.39.9.59 1.41.59.51 0 1.02-.2 1.41-.59l7.78-7.78 2.81-2.81c.8-.78.8-2.07 0-2.86zM5.41 20L4 18.59l7.72-7.72 1.47 1.35L5.41 20z\"/>\n",
              "  </svg>\n",
              "      </button>\n",
              "      \n",
              "  <style>\n",
              "    .colab-df-container {\n",
              "      display:flex;\n",
              "      flex-wrap:wrap;\n",
              "      gap: 12px;\n",
              "    }\n",
              "\n",
              "    .colab-df-convert {\n",
              "      background-color: #E8F0FE;\n",
              "      border: none;\n",
              "      border-radius: 50%;\n",
              "      cursor: pointer;\n",
              "      display: none;\n",
              "      fill: #1967D2;\n",
              "      height: 32px;\n",
              "      padding: 0 0 0 0;\n",
              "      width: 32px;\n",
              "    }\n",
              "\n",
              "    .colab-df-convert:hover {\n",
              "      background-color: #E2EBFA;\n",
              "      box-shadow: 0px 1px 2px rgba(60, 64, 67, 0.3), 0px 1px 3px 1px rgba(60, 64, 67, 0.15);\n",
              "      fill: #174EA6;\n",
              "    }\n",
              "\n",
              "    [theme=dark] .colab-df-convert {\n",
              "      background-color: #3B4455;\n",
              "      fill: #D2E3FC;\n",
              "    }\n",
              "\n",
              "    [theme=dark] .colab-df-convert:hover {\n",
              "      background-color: #434B5C;\n",
              "      box-shadow: 0px 1px 3px 1px rgba(0, 0, 0, 0.15);\n",
              "      filter: drop-shadow(0px 1px 2px rgba(0, 0, 0, 0.3));\n",
              "      fill: #FFFFFF;\n",
              "    }\n",
              "  </style>\n",
              "\n",
              "      <script>\n",
              "        const buttonEl =\n",
              "          document.querySelector('#df-c6055ded-3a9a-41c5-89cd-3323c0a8041a button.colab-df-convert');\n",
              "        buttonEl.style.display =\n",
              "          google.colab.kernel.accessAllowed ? 'block' : 'none';\n",
              "\n",
              "        async function convertToInteractive(key) {\n",
              "          const element = document.querySelector('#df-c6055ded-3a9a-41c5-89cd-3323c0a8041a');\n",
              "          const dataTable =\n",
              "            await google.colab.kernel.invokeFunction('convertToInteractive',\n",
              "                                                     [key], {});\n",
              "          if (!dataTable) return;\n",
              "\n",
              "          const docLinkHtml = 'Like what you see? Visit the ' +\n",
              "            '<a target=\"_blank\" href=https://colab.research.google.com/notebooks/data_table.ipynb>data table notebook</a>'\n",
              "            + ' to learn more about interactive tables.';\n",
              "          element.innerHTML = '';\n",
              "          dataTable['output_type'] = 'display_data';\n",
              "          await google.colab.output.renderOutput(dataTable, element);\n",
              "          const docLink = document.createElement('div');\n",
              "          docLink.innerHTML = docLinkHtml;\n",
              "          element.appendChild(docLink);\n",
              "        }\n",
              "      </script>\n",
              "    </div>\n",
              "  </div>\n",
              "  "
            ]
          },
          "metadata": {},
          "execution_count": 3
        }
      ]
    },
    {
      "cell_type": "markdown",
      "source": [
        "Baseando-se na amostra acima, temos as seguintes informações coletadas:\n",
        "\n",
        "*   2111 endereços IP's únicos\n",
        "*   60 paises foram identificados \n",
        "*   272 provedores em nuvem foram identificados\n",
        "*    4 status para os IP's\n",
        "\n",
        "\n"
      ],
      "metadata": {
        "id": "4LtUeL77eGng"
      }
    },
    {
      "cell_type": "markdown",
      "source": [
        "***Lista de países dos IP's que realizaram o ataque***"
      ],
      "metadata": {
        "id": "KBlSjk6TgiUh"
      }
    },
    {
      "cell_type": "code",
      "source": [
        "df['COUNTRY'].unique()"
      ],
      "metadata": {
        "colab": {
          "base_uri": "https://localhost:8080/"
        },
        "id": "FYGR8W73g83a",
        "outputId": "e14983e5-1efa-4b04-e1dd-df25071da64b"
      },
      "execution_count": null,
      "outputs": [
        {
          "output_type": "execute_result",
          "data": {
            "text/plain": [
              "array(['RU', 'NL', 'CH', 'GR', 'BR', 'IN', 'US', 'TW', 'SG', 'AR', 'CN',\n",
              "       'GB', 'DE', 'SA', 'TH', 'PL', 'SE', 'HU', 'KR', 'BD', 'PH', 'EG',\n",
              "       'HK', 'CA', 'FR', 'MX', 'LU', 'RO', 'SC', 'TR', 'DK', 'UA', 'PE',\n",
              "       'FI', 'IE', 'JP', 'BG', 'ES', 'ID', 'BE', 'CZ', 'CY', 'KZ', 'BY',\n",
              "       'ZA', 'DZ', 'VN', 'CL', 'AL', 'SK', 'CO', 'MY', 'AU', 'IR', 'MD',\n",
              "       'PA', 'EE', 'NO', 'IT', 'AT'], dtype=object)"
            ]
          },
          "metadata": {},
          "execution_count": 5
        }
      ]
    },
    {
      "cell_type": "markdown",
      "source": [
        "**Provedores utilizadores para realização do ataque**"
      ],
      "metadata": {
        "id": "qSzLaghphZEl"
      }
    },
    {
      "cell_type": "code",
      "source": [
        "df['PL_NAME'].unique()"
      ],
      "metadata": {
        "colab": {
          "base_uri": "https://localhost:8080/"
        },
        "outputId": "562128af-1592-4249-fcc2-29af99682bc3",
        "id": "M1-Ptcn_hvyG"
      },
      "execution_count": null,
      "outputs": [
        {
          "output_type": "execute_result",
          "data": {
            "text/plain": [
              "array(['OOO Network of data-centers Selectel', 'DIGITALOCEAN-ASN',\n",
              "       'GOOGLE-CLOUD-PLATFORM',\n",
              "       'National Infrastructures for Research and Technology S.A.',\n",
              "       'MICROSOFT-CORP-MSN-AS-BLOCK', 'CDSC-AS1',\n",
              "       'Red de Interconexion Universitaria',\n",
              "       'Hangzhou Alibaba Advertising Co.,Ltd.',\n",
              "       'China Unicom Beijing Province Network',\n",
              "       'CHINA UNICOM China169 Backbone',\n",
              "       'Shenzhen Tencent Computer Systems Company Limited',\n",
              "       'myLoc managed IT AG', 'PHMGMT-AS1',\n",
              "       'China Mobile communications corporation',\n",
              "       'The Communication Authoity of Thailand, CAT',\n",
              "       'Riviera Telecom Ltd', 'Hengyang', 'PJSC MegaFon', 'Linode, LLC',\n",
              "       'Uzbektelekom Joint Stock Company', 'Inter Connects Inc',\n",
              "       'SzerverPlex.hu KFT.', 'ORACLE-BMC-31898',\n",
              "       'RootLayer Web Services Ltd.', 'AS-CHOOPA', 'Contabo GmbH',\n",
              "       'WEBLINE19', 'Hetzner Online GmbH',\n",
              "       'IP-Converge Data Center, Inc.', 'Noor Data Networks',\n",
              "       'FNL-33-19754', 'OVH SAS', 'Online S.a.s.', 'Uninet S.A. de C.V.',\n",
              "       'Foreningen for digitala fri- och rattigheter',\n",
              "       'Cia Triad Security LLC', 'PONYNET', 'Private Layer INC',\n",
              "       'Flokinet Ltd', 'F3 Netze e.V.', 'netcup GmbH', 'DATAIDEAS-LLC',\n",
              "       'DATAWAGON', 'AS-COLOCROSSING', 'HAWAIIAN-TELCOM', 'CALYX-AS',\n",
              "       'Radore Veri Merkezi Hizmetleri A.S.', 'Forening for DotSrc',\n",
              "       'Zemlyaniy Dmitro Leonidovich', 'Leaseweb Deutschland GmbH',\n",
              "       'Amarutu Technology Ltd', 'Unmanaged Ltd', 'Labitat',\n",
              "       'DESARROLLO DE INFRAESTRUCTURA DE TELECOMUNICACIONES PERU S.A.C. INFRATEL',\n",
              "       'GleSYS AB', 'SURF B.V.', 'IONOS SE', 'EMERALD-ONION', '24SHELLS',\n",
              "       'Virtual Systems LLC', 'Bahnhof AB', '31173 Services AB',\n",
              "       'Moneroj s.r.o.', 'The Infrastructure Group B.V.', 'AMAZON-AES',\n",
              "       'SBBSNET', 'VERMONT-TELE',\n",
              "       'China Education and Research Network Center', 'QUALYS',\n",
              "       'Cloudie Limited', 'Cloud Computing Corporation', 'Hostkey B.v.',\n",
              "       'HK AISI CLOUD COMPUTING LIMITED', 'Rostelecom',\n",
              "       'UNICOM AnHui province network',\n",
              "       'Huawei Cloud Service data center', 'NIPA TECHNOLOGY CO., LTD',\n",
              "       'SK Broadband Co Ltd', 'AMAZON-02', 'Simply Transit Ltd',\n",
              "       'GELSEN-NET Kommunikationsgesellschaft mbH', 'Millenicom GmbH',\n",
              "       'Voxility LLP', 'TechnoLux Ltd.', 'Crevision S.A.',\n",
              "       'Indonesia Network Information Center',\n",
              "       'PT Telekomunikasi Indonesia', 'Comfortel Ltd.',\n",
              "       'IP-Projects GmbH & Co. KG', 'EDPNET NV', 'Model Telecom Ltd',\n",
              "       'Completel SAS', 'Packet Exchange Limited',\n",
              "       'Alibaba US Technology Co., Ltd.',\n",
              "       'The Federal Guard Service of the Russian Federation',\n",
              "       'Intermax BV', 'Host Sailor Ltd', 'SPCom s.r.o.',\n",
              "       'Hostinger International Limited', 'Telefonica De Espana',\n",
              "       'SERES SA', 'Jump Networks Ltd', 'Orange', 'Global Layer B.V.',\n",
              "       'KAGOYA JAPAN Inc.', 'Network Management Ltd', 'OOO METRO',\n",
              "       'data-centr ekaterinburg OOO', 'Serverhosh Internet Service',\n",
              "       'Reliance Jio Infocomm Limited', 'IT House, Ltd',\n",
              "       'Datacamp Limited', 'M-net Telekommunikations GmbH',\n",
              "       'DISKOMINFO PROV. JAWA TENGAH',\n",
              "       'TATA SKY BROADBAND PRIVATE LIMITED', 'Hostglobal.plus Ltd',\n",
              "       'DAOU TECHNOLOGY', 'PT Infinys System Indonesia', 'SERVERROOM',\n",
              "       'Tencent Building, Kejizhongyi Avenue',\n",
              "       'Internet Service Provider', 'Trader soft LLC',\n",
              "       'SoftEther Corporation', 'GOOGLE',\n",
              "       'Shanghai Blue Cloud Technology Co.,Ltd',\n",
              "       'CONECTJET LAGOS INTERNET BANDA LARGA LTDA - ME',\n",
              "       'LeaseWeb Netherlands B.V.', 'Free SAS', 'PS Internet Company LLC',\n",
              "       'Celeste SAS', 'IP Volume inc', 'Netaction Telecom Srl-d',\n",
              "       'combahton GmbH', 'OOO SibirInvest',\n",
              "       'Republican Unitary Telecommunication Enterprise Beltelecom',\n",
              "       'DataKeepers', 'Kerala Vision Broad Band Private Limited',\n",
              "       'PT. Beon Intermedia', 'NODISTO', 'Telecom Algeria',\n",
              "       'Bharti Airtel Ltd., Telemedia Services',\n",
              "       'The Corporation for Financing & Promoting Technology',\n",
              "       '453 Ladplacout Jorakhaebua', 'LG DACOM Corporation',\n",
              "       'GMO-Z com NetDesign Holdings Co., Ltd.', 'Institut Pasteur',\n",
              "       'HUAWEI CLOUDS', 'connectx servicos de telecomunicacoes ltda',\n",
              "       'Netmagic Datacenter Mumbai', 'Bouygues Telecom SA',\n",
              "       'Indicate IT AB', 'DIGI Tavkozlesi es Szolgaltato Kft.',\n",
              "       'Minorisa de Sistemas Informaticos y de Gestion, S.L.',\n",
              "       'Hosting technology LTD', 'Hosting Ukraine LTD',\n",
              "       'Cnc Bilisim Hizmetleri Ins San Tic Ltd Sti', 'Datashield, Inc.',\n",
              "       'ASN-QUADRANET-GLOBAL', 'H4Y-TECHNOLOGIES',\n",
              "       'Hydra Communications Ltd', 'active 1 GmbH', 'TE-AS',\n",
              "       'GSL Networks Pty LTD', 'RAPID7', 'Hathway IP Over Cable Internet',\n",
              "       'Des Capital B.V.', 'Netbudur Telekomunikasyon Limited Sirketi',\n",
              "       'Netia SA', 'Keminet SHPK', 'Alexhost Srl', 'WebSupport s.r.o.',\n",
              "       'Kaan Girgin',\n",
              "       'CABLE Y TELECOMUNICACIONES DE COLOMBIA S.A.S CABLETELCO',\n",
              "       'KABOOM NET', 'LLC atom3', 'MOBIFONE Corporation',\n",
              "       'Vodafone Libertel B.V.', 'NAMECHEAP-NET', 'PREMIANET',\n",
              "       'Ningxia West Cloud Data Technology Co.Ltd.',\n",
              "       'sw hosting & communications technologies SL', 'Host Europe GmbH',\n",
              "       'MTS PJSC', 'TimeWeb Ltd.', 'WorldStream B.V.',\n",
              "       'Meverywhere sp. z o.o.', 'Softbank BB Corp.',\n",
              "       'PT. Cyberindo Aditama', 'Hutchison CP Telecommunications, PT',\n",
              "       'Saddam Hossain ta Asian Network', 'BasketAsia, Sdn. Bhd.',\n",
              "       'Live Fibernet', 'HostSlim B.V.', 'Gigabit Hosting Sdn Bhd',\n",
              "       'PERFORMIVE', 'Chinanet',\n",
              "       'CHINANET SHAANXI province Cloud Base network',\n",
              "       'PT. Telekomunikasi Selular', 'SMILESERV',\n",
              "       'Intergrid Group Pty Ltd', 'National Infomation Society Agency',\n",
              "       'CAT Telecom Public Company Limited',\n",
              "       'ASN for TIANJIN Provincial Net of CT', 'Sky View Online',\n",
              "       'TOT Public Company Limited', 'Pars Parva System LLC',\n",
              "       'China Unicom Shanghai network', 'SAKURA Internet Inc.',\n",
              "       'M247 Ltd', 'TWC-10796-MIDWEST', 'I.C.S. Trabia-Network S.R.L.',\n",
              "       'Bluewin', 'AS Number for CHINANET jiangsu province backbone',\n",
              "       'Telefonica de Argentina', 'LLC Baxet', 'Clouvider Limited',\n",
              "       'TEFINCOM S.A.', 'DEDIPATH-LLC', 'Iguane Solutions SAS',\n",
              "       'Serverius Holding B.V.', 'Altibox AS', 'SpedyNet Telecom',\n",
              "       'COGENT-174', 'Locaweb Servicos de Internet SA', 'Cukman Kresimir',\n",
              "       'ARN', 'Securitytrails, LLC', 'xTom GmbH', 'Highland Network Ltd',\n",
              "       'Tehran University of Medical Science', nan, 'TerraHost AS',\n",
              "       'QUINTEX', 'Mahasarakham University',\n",
              "       'Broad Band Telecom Services Ltd', 'CONTABO',\n",
              "       'SUDDENLINK-COMMUNICATIONS', 'CDM', 'Korea Telecom', 'HIGHWINDS2',\n",
              "       'CHINA UNICOM Industrial Internet Backbone', 'Nexus Bytes LLC',\n",
              "       'LEASEWEB-USA-SEA-10', 'China Unicom Shenzen network',\n",
              "       'Vodafone GmbH', 'Google Asia Pacific Pte. Ltd.', 'CITYNET',\n",
              "       'MICROCHIP-NET TELECOM SERV COM MULTIMIDIA LTDA',\n",
              "       'Host Universal Pty Ltd', 'GOOGLE-FIBER',\n",
              "       'Data Communication Business Group',\n",
              "       'Hong Kong Broadband Network Ltd.', 'WOW-INTERNET', 'TZULO',\n",
              "       'FIBERFI', 'PRGMR', 'Virgin Media Limited', 'SFR SA',\n",
              "       'Tele Danmark', 'JSC IOT', 'Signet B.V.', 'Kabelnet Ltd',\n",
              "       'Eniig Fiber A/S', 'Liberty Global B.V.',\n",
              "       'ET Satelit TM - Anton Simeonov',\n",
              "       'Mobin Net Communication Company (Private Joint Stock)',\n",
              "       'G-Core Labs S.A.', 'JSC Kazakhtelecom', 'Fastweb', 'UpCloud Ltd',\n",
              "       'UUNET', 'Stichting Dutch Institute for Vulnerability Disclosure',\n",
              "       'Alpha Strike Labs GmbH'], dtype=object)"
            ]
          },
          "metadata": {},
          "execution_count": 6
        }
      ]
    },
    {
      "cell_type": "markdown",
      "source": [
        "**Limpeza de dados**"
      ],
      "metadata": {
        "id": "qMjX3kzZiguV"
      }
    },
    {
      "cell_type": "markdown",
      "source": [
        "Encontrando colunas com valores nulos\n",
        "\n"
      ],
      "metadata": {
        "id": "46CFTsSnjBvu"
      }
    },
    {
      "cell_type": "code",
      "source": [
        "df.isnull().sum()"
      ],
      "metadata": {
        "colab": {
          "base_uri": "https://localhost:8080/"
        },
        "id": "o0lg7TCGjTUU",
        "outputId": "4b800e42-535a-41cf-feba-7dd6c6661930"
      },
      "execution_count": null,
      "outputs": [
        {
          "output_type": "execute_result",
          "data": {
            "text/plain": [
              "IP_INFO        0\n",
              "STATUS_CONF    0\n",
              "COUNTRY        0\n",
              "PL_NAME        1\n",
              "dtype: int64"
            ]
          },
          "metadata": {},
          "execution_count": 7
        }
      ]
    },
    {
      "cell_type": "markdown",
      "source": [
        "Remoção de valores nulos"
      ],
      "metadata": {
        "id": "ipurCFJ_jXiK"
      }
    },
    {
      "cell_type": "code",
      "source": [
        "#remoção de valor nulo\n",
        "df.dropna(axis=0, how='any', inplace=True)\n",
        "df.isnull().sum()"
      ],
      "metadata": {
        "colab": {
          "base_uri": "https://localhost:8080/"
        },
        "id": "pBRZYZ-qjcJU",
        "outputId": "11512a1b-50ae-476c-a33b-065fb265d408"
      },
      "execution_count": null,
      "outputs": [
        {
          "output_type": "execute_result",
          "data": {
            "text/plain": [
              "IP_INFO        0\n",
              "STATUS_CONF    0\n",
              "COUNTRY        0\n",
              "PL_NAME        0\n",
              "dtype: int64"
            ]
          },
          "metadata": {},
          "execution_count": 10
        }
      ]
    },
    {
      "cell_type": "code",
      "source": [
        ""
      ],
      "metadata": {
        "id": "0fMSdSAYTLz9"
      },
      "execution_count": null,
      "outputs": []
    },
    {
      "cell_type": "markdown",
      "source": [
        "\n",
        "***Agrupando dados para análise***\n",
        "\n"
      ],
      "metadata": {
        "id": "hszli3jVTJDc"
      }
    },
    {
      "cell_type": "code",
      "source": [
        "#Agrupando os 10 paises com maior incidencias de tuplas \n",
        "paises=df.groupby([\"COUNTRY\"]).size().sort_values(ascending=False).head(10)"
      ],
      "metadata": {
        "id": "Of6dPdQoTDHj"
      },
      "execution_count": null,
      "outputs": []
    },
    {
      "cell_type": "code",
      "source": [
        "#plotando o gráfico de análise\n",
        "paises.plot(kind='bar')"
      ],
      "metadata": {
        "colab": {
          "base_uri": "https://localhost:8080/",
          "height": 301
        },
        "id": "vIUrTwGqXQbJ",
        "outputId": "95bb5b52-9daa-4ebe-bf26-866c52c61cb5"
      },
      "execution_count": null,
      "outputs": [
        {
          "output_type": "execute_result",
          "data": {
            "text/plain": [
              "<matplotlib.axes._subplots.AxesSubplot at 0x7f7acd93ff90>"
            ]
          },
          "metadata": {},
          "execution_count": 10
        },
        {
          "output_type": "display_data",
          "data": {
            "text/plain": [
              "<Figure size 432x288 with 1 Axes>"
            ],
            "image/png": "[encoded data removed]"
          },
          "metadata": {
            "needs_background": "light"
          }
        }
      ]
    },
    {
      "cell_type": "code",
      "source": [
        "#Agrupando dados das 10 principais plataformas utilizadas para realizar os ataques\n",
        "plataformas=df.groupby([\"PL_NAME\"]).size().sort_values(ascending=False).head(10)"
      ],
      "metadata": {
        "id": "rduIMPEnZN3s"
      },
      "execution_count": null,
      "outputs": []
    },
    {
      "cell_type": "code",
      "source": [
        "#plotando o gráfico de análise\n",
        "plataformas.plot(kind='bar', title=\"Principais provedores com maior numero de IP's detectados no ataque\")"
      ],
      "metadata": {
        "colab": {
          "base_uri": "https://localhost:8080/",
          "height": 582
        },
        "id": "KglaYftKZNOh",
        "outputId": "03893261-7ce4-48c4-9803-224466866557"
      },
      "execution_count": null,
      "outputs": [
        {
          "output_type": "execute_result",
          "data": {
            "text/plain": [
              "<matplotlib.axes._subplots.AxesSubplot at 0x7f7acd8a3d10>"
            ]
          },
          "metadata": {},
          "execution_count": 12
        },
        {
          "output_type": "display_data",
          "data": {
            "text/plain": [
              "<Figure size 432x288 with 1 Axes>"
            ],
            "image/png": "[encoded data removed]"
          },
          "metadata": {
            "needs_background": "light"
          }
        }
      ]
    },
    {
      "cell_type": "code",
      "source": [
        "## Agrupando  IP's verificados como maliciosos\n",
        "\n",
        "verificado = df.loc[df['STATUS_CONF'] == 'validated']\n",
        "\n",
        "verificado.head()"
      ],
      "metadata": {
        "id": "IP9dwFZcZp9h",
        "colab": {
          "base_uri": "https://localhost:8080/",
          "height": 206
        },
        "outputId": "e93c0108-735e-4337-a455-c4c2db7b500e"
      },
      "execution_count": 5,
      "outputs": [
        {
          "output_type": "execute_result",
          "data": {
            "text/plain": [
              "          IP_INFO STATUS_CONF COUNTRY                               PL_NAME\n",
              "0  195.54.160.149   validated      RU  OOO Network of data-centers Selectel\n",
              "1  45.155.205.233   validated      RU  OOO Network of data-centers Selectel\n",
              "2   167.71.13.196   validated      NL                      DIGITALOCEAN-ASN\n",
              "3  45.146.164.160   validated      RU  OOO Network of data-centers Selectel\n",
              "4   34.65.121.142   validated      CH                 GOOGLE-CLOUD-PLATFORM"
            ],
            "text/html": [
              "\n",
              "  <div id=\"df-f3d4ada9-76c3-46d3-9960-cd4cfb9480da\">\n",
              "    <div class=\"colab-df-container\">\n",
              "      <div>\n",
              "<style scoped>\n",
              "    .dataframe tbody tr th:only-of-type {\n",
              "        vertical-align: middle;\n",
              "    }\n",
              "\n",
              "    .dataframe tbody tr th {\n",
              "        vertical-align: top;\n",
              "    }\n",
              "\n",
              "    .dataframe thead th {\n",
              "        text-align: right;\n",
              "    }\n",
              "</style>\n",
              "<table border=\"1\" class=\"dataframe\">\n",
              "  <thead>\n",
              "    <tr style=\"text-align: right;\">\n",
              "      <th></th>\n",
              "      <th>IP_INFO</th>\n",
              "      <th>STATUS_CONF</th>\n",
              "      <th>COUNTRY</th>\n",
              "      <th>PL_NAME</th>\n",
              "    </tr>\n",
              "  </thead>\n",
              "  <tbody>\n",
              "    <tr>\n",
              "      <th>0</th>\n",
              "      <td>195.54.160.149</td>\n",
              "      <td>validated</td>\n",
              "      <td>RU</td>\n",
              "      <td>OOO Network of data-centers Selectel</td>\n",
              "    </tr>\n",
              "    <tr>\n",
              "      <th>1</th>\n",
              "      <td>45.155.205.233</td>\n",
              "      <td>validated</td>\n",
              "      <td>RU</td>\n",
              "      <td>OOO Network of data-centers Selectel</td>\n",
              "    </tr>\n",
              "    <tr>\n",
              "      <th>2</th>\n",
              "      <td>167.71.13.196</td>\n",
              "      <td>validated</td>\n",
              "      <td>NL</td>\n",
              "      <td>DIGITALOCEAN-ASN</td>\n",
              "    </tr>\n",
              "    <tr>\n",
              "      <th>3</th>\n",
              "      <td>45.146.164.160</td>\n",
              "      <td>validated</td>\n",
              "      <td>RU</td>\n",
              "      <td>OOO Network of data-centers Selectel</td>\n",
              "    </tr>\n",
              "    <tr>\n",
              "      <th>4</th>\n",
              "      <td>34.65.121.142</td>\n",
              "      <td>validated</td>\n",
              "      <td>CH</td>\n",
              "      <td>GOOGLE-CLOUD-PLATFORM</td>\n",
              "    </tr>\n",
              "  </tbody>\n",
              "</table>\n",
              "</div>\n",
              "      <button class=\"colab-df-convert\" onclick=\"convertToInteractive('df-f3d4ada9-76c3-46d3-9960-cd4cfb9480da')\"\n",
              "              title=\"Convert this dataframe to an interactive table.\"\n",
              "              style=\"display:none;\">\n",
              "        \n",
              "  <svg xmlns=\"http://www.w3.org/2000/svg\" height=\"24px\"viewBox=\"0 0 24 24\"\n",
              "       width=\"24px\">\n",
              "    <path d=\"M0 0h24v24H0V0z\" fill=\"none\"/>\n",
              "    <path d=\"M18.56 5.44l.94 2.06.94-2.06 2.06-.94-2.06-.94-.94-2.06-.94 2.06-2.06.94zm-11 1L8.5 8.5l.94-2.06 2.06-.94-2.06-.94L8.5 2.5l-.94 2.06-2.06.94zm10 10l.94 2.06.94-2.06 2.06-.94-2.06-.94-.94-2.06-.94 2.06-2.06.94z\"/><path d=\"M17.41 7.96l-1.37-1.37c-.4-.4-.92-.59-1.43-.59-.52 0-1.04.2-1.43.59L10.3 9.45l-7.72 7.72c-.78.78-.78 2.05 0 2.83L4 21.41c.39.39.9.59 1.41.59.51 0 1.02-.2 1.41-.59l7.78-7.78 2.81-2.81c.8-.78.8-2.07 0-2.86zM5.41 20L4 18.59l7.72-7.72 1.47 1.35L5.41 20z\"/>\n",
              "  </svg>\n",
              "      </button>\n",
              "      \n",
              "  <style>\n",
              "    .colab-df-container {\n",
              "      display:flex;\n",
              "      flex-wrap:wrap;\n",
              "      gap: 12px;\n",
              "    }\n",
              "\n",
              "    .colab-df-convert {\n",
              "      background-color: #E8F0FE;\n",
              "      border: none;\n",
              "      border-radius: 50%;\n",
              "      cursor: pointer;\n",
              "      display: none;\n",
              "      fill: #1967D2;\n",
              "      height: 32px;\n",
              "      padding: 0 0 0 0;\n",
              "      width: 32px;\n",
              "    }\n",
              "\n",
              "    .colab-df-convert:hover {\n",
              "      background-color: #E2EBFA;\n",
              "      box-shadow: 0px 1px 2px rgba(60, 64, 67, 0.3), 0px 1px 3px 1px rgba(60, 64, 67, 0.15);\n",
              "      fill: #174EA6;\n",
              "    }\n",
              "\n",
              "    [theme=dark] .colab-df-convert {\n",
              "      background-color: #3B4455;\n",
              "      fill: #D2E3FC;\n",
              "    }\n",
              "\n",
              "    [theme=dark] .colab-df-convert:hover {\n",
              "      background-color: #434B5C;\n",
              "      box-shadow: 0px 1px 3px 1px rgba(0, 0, 0, 0.15);\n",
              "      filter: drop-shadow(0px 1px 2px rgba(0, 0, 0, 0.3));\n",
              "      fill: #FFFFFF;\n",
              "    }\n",
              "  </style>\n",
              "\n",
              "      <script>\n",
              "        const buttonEl =\n",
              "          document.querySelector('#df-f3d4ada9-76c3-46d3-9960-cd4cfb9480da button.colab-df-convert');\n",
              "        buttonEl.style.display =\n",
              "          google.colab.kernel.accessAllowed ? 'block' : 'none';\n",
              "\n",
              "        async function convertToInteractive(key) {\n",
              "          const element = document.querySelector('#df-f3d4ada9-76c3-46d3-9960-cd4cfb9480da');\n",
              "          const dataTable =\n",
              "            await google.colab.kernel.invokeFunction('convertToInteractive',\n",
              "                                                     [key], {});\n",
              "          if (!dataTable) return;\n",
              "\n",
              "          const docLinkHtml = 'Like what you see? Visit the ' +\n",
              "            '<a target=\"_blank\" href=https://colab.research.google.com/notebooks/data_table.ipynb>data table notebook</a>'\n",
              "            + ' to learn more about interactive tables.';\n",
              "          element.innerHTML = '';\n",
              "          dataTable['output_type'] = 'display_data';\n",
              "          await google.colab.output.renderOutput(dataTable, element);\n",
              "          const docLink = document.createElement('div');\n",
              "          docLink.innerHTML = docLinkHtml;\n",
              "          element.appendChild(docLink);\n",
              "        }\n",
              "      </script>\n",
              "    </div>\n",
              "  </div>\n",
              "  "
            ]
          },
          "metadata": {},
          "execution_count": 5
        }
      ]
    },
    {
      "cell_type": "code",
      "source": [
        ""
      ],
      "metadata": {
        "id": "Sbyfm5Gj-Xz0"
      },
      "execution_count": 6,
      "outputs": []
    },
    {
      "cell_type": "code",
      "source": [
        ""
      ],
      "metadata": {
        "id": "zgxuDtNy99OO"
      },
      "execution_count": null,
      "outputs": []
    }
  ]
}